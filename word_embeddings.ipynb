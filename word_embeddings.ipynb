{
  "nbformat": 4,
  "nbformat_minor": 0,
  "metadata": {
    "colab": {
      "provenance": [],
      "gpuType": "T4",
      "authorship_tag": "ABX9TyOObbzY1gBVxo/nyvze0Oc4",
      "include_colab_link": true
    },
    "kernelspec": {
      "name": "python3",
      "display_name": "Python 3"
    },
    "language_info": {
      "name": "python"
    },
    "accelerator": "GPU"
  },
  "cells": [
    {
      "cell_type": "markdown",
      "metadata": {
        "id": "view-in-github",
        "colab_type": "text"
      },
      "source": [
        "<a href=\"https://colab.research.google.com/github/HebaSedik/deep-learning/blob/master/word_embeddings.ipynb\" target=\"_parent\"><img src=\"https://colab.research.google.com/assets/colab-badge.svg\" alt=\"Open In Colab\"/></a>"
      ]
    },
    {
      "cell_type": "code",
      "execution_count": 5,
      "metadata": {
        "id": "CvpT6euWJGic"
      },
      "outputs": [],
      "source": [
        "from numpy import array\n",
        "from keras.preprocessing.text import one_hot\n",
        "from tensorflow.keras.preprocessing.sequence import pad_sequences\n",
        "from keras.models import Sequential\n",
        "from keras.layers import Dense\n",
        "from keras.layers import Flatten\n",
        "from tensorflow.keras.layers import Embedding"
      ]
    },
    {
      "cell_type": "code",
      "source": [
        "corpus = [\n",
        "     # Positive Reviews\n",
        "     'This is an excellent movie','The move was fantastic I like it',\n",
        "      'You should watch it is brilliant','Exceptionally good',\n",
        "     'Wonderfully directed and executed I like it','Its a fantastic series',\n",
        "     'Never watched such a brillent movie','It is a Wonderful movie',\n",
        "      # Negtive Reviews\n",
        "     \"horrible acting\", 'waste of money','pathetic picture',\n",
        "      'It was very boring', 'I did not like the movie','The movie was horrible',\n",
        "     'I will not recommend', 'The acting is pathetic'\n",
        "]"
      ],
      "metadata": {
        "id": "IfAw8HbtKGcL"
      },
      "execution_count": 6,
      "outputs": []
    },
    {
      "cell_type": "code",
      "source": [
        "sentiments = array([1,1,1,1,1,1,1,1,0,0,0,0,0,0,0,0])"
      ],
      "metadata": {
        "id": "xyWOiFy9LjJ4"
      },
      "execution_count": 7,
      "outputs": []
    },
    {
      "cell_type": "code",
      "source": [
        "import nltk\n",
        "nltk.download('punkt')\n",
        "from nltk.tokenize import word_tokenize\n",
        "all_words = []\n",
        "for sent in corpus:\n",
        "   tokenize_word = word_tokenize(sent)\n",
        "   for word in tokenize_word:\n",
        "    all_words.append(word)"
      ],
      "metadata": {
        "colab": {
          "base_uri": "https://localhost:8080/"
        },
        "id": "8K1vXpAELp1d",
        "outputId": "0653b68d-cd34-459f-efef-67d544f119ec"
      },
      "execution_count": 8,
      "outputs": [
        {
          "output_type": "stream",
          "name": "stderr",
          "text": [
            "[nltk_data] Downloading package punkt to /root/nltk_data...\n",
            "[nltk_data]   Unzipping tokenizers/punkt.zip.\n"
          ]
        }
      ]
    },
    {
      "cell_type": "code",
      "source": [
        "unique_words = set(all_words)\n",
        "print(len(unique_words))"
      ],
      "metadata": {
        "colab": {
          "base_uri": "https://localhost:8080/"
        },
        "id": "upP9pNL0MGiF",
        "outputId": "548c700e-a002-4e5f-cc3b-6a14d0c47e48"
      },
      "execution_count": 9,
      "outputs": [
        {
          "output_type": "stream",
          "name": "stdout",
          "text": [
            "45\n"
          ]
        }
      ]
    },
    {
      "cell_type": "code",
      "source": [
        "embedded_sentences = [one_hot(sent, 50) for sent in corpus]\n",
        "print(embedded_sentences )"
      ],
      "metadata": {
        "colab": {
          "base_uri": "https://localhost:8080/"
        },
        "id": "yeke0AL8MNE5",
        "outputId": "b952e13b-eabf-4754-adbd-0d1fc12ec65d"
      },
      "execution_count": 10,
      "outputs": [
        {
          "output_type": "stream",
          "name": "stdout",
          "text": [
            "[[36, 23, 44, 45, 28], [29, 46, 9, 17, 3, 29, 39], [35, 23, 34, 39, 23, 44], [11, 6], [29, 2, 46, 16, 3, 29, 39], [10, 6, 17, 22], [12, 1, 16, 6, 21, 28], [39, 23, 6, 41, 28], [8, 40], [8, 28, 3], [9, 6], [39, 9, 5, 33], [3, 48, 11, 29, 29, 28], [29, 28, 9, 8], [3, 14, 11, 8], [29, 40, 23, 9]]\n"
          ]
        }
      ]
    },
    {
      "cell_type": "code",
      "source": [
        "word_count = lambda sentence: len(word_tokenize(sentence))\n",
        "longest_sentence = max(corpus, key=word_count)\n",
        "length_long_sentence = len(word_tokenize(longest_sentence))"
      ],
      "metadata": {
        "id": "xsQxhdnNMcX1"
      },
      "execution_count": 11,
      "outputs": []
    },
    {
      "cell_type": "code",
      "source": [
        "padded_sentences = pad_sequences(embedded_sentences, length_long_sentence, padding='post')\n",
        "print(padded_sentences)"
      ],
      "metadata": {
        "colab": {
          "base_uri": "https://localhost:8080/"
        },
        "id": "r4AHgJXrM1RV",
        "outputId": "4c19b9a2-c623-49b6-b2da-82199bcb8f42"
      },
      "execution_count": 13,
      "outputs": [
        {
          "output_type": "stream",
          "name": "stdout",
          "text": [
            "[[36 23 44 45 28  0  0]\n",
            " [29 46  9 17  3 29 39]\n",
            " [35 23 34 39 23 44  0]\n",
            " [11  6  0  0  0  0  0]\n",
            " [29  2 46 16  3 29 39]\n",
            " [10  6 17 22  0  0  0]\n",
            " [12  1 16  6 21 28  0]\n",
            " [39 23  6 41 28  0  0]\n",
            " [ 8 40  0  0  0  0  0]\n",
            " [ 8 28  3  0  0  0  0]\n",
            " [ 9  6  0  0  0  0  0]\n",
            " [39  9  5 33  0  0  0]\n",
            " [ 3 48 11 29 29 28  0]\n",
            " [29 28  9  8  0  0  0]\n",
            " [ 3 14 11  8  0  0  0]\n",
            " [29 40 23  9  0  0  0]]\n"
          ]
        }
      ]
    },
    {
      "cell_type": "code",
      "source": [
        "word_count = lambda sentence: len(word_tokenize(sentence))\n",
        "longest_sentence = max(corpus, key=word_count)\n",
        "length_long_sentence = len(word_tokenize(longest_sentence))"
      ],
      "metadata": {
        "id": "Vx9Vjf4KM9n_"
      },
      "execution_count": 14,
      "outputs": []
    },
    {
      "cell_type": "markdown",
      "source": [
        "## *build model*"
      ],
      "metadata": {
        "id": "UTvRWOKeNcOS"
      }
    },
    {
      "cell_type": "code",
      "source": [
        "model = Sequential()\n",
        "model.add(Embedding(50, 20, input_length=length_long_sentence))\n",
        "model.add(Flatten())\n",
        "model.add(Dense(1, activation='sigmoid'))"
      ],
      "metadata": {
        "id": "40dHuKqYNDN5"
      },
      "execution_count": 15,
      "outputs": []
    },
    {
      "cell_type": "code",
      "source": [
        "model.summary()"
      ],
      "metadata": {
        "colab": {
          "base_uri": "https://localhost:8080/"
        },
        "id": "0H4uLxfKNYka",
        "outputId": "aa2b86ac-0902-4390-9ece-c4cab86d0b58"
      },
      "execution_count": 16,
      "outputs": [
        {
          "output_type": "stream",
          "name": "stdout",
          "text": [
            "Model: \"sequential\"\n",
            "_________________________________________________________________\n",
            " Layer (type)                Output Shape              Param #   \n",
            "=================================================================\n",
            " embedding (Embedding)       (None, 7, 20)             1000      \n",
            "                                                                 \n",
            " flatten (Flatten)           (None, 140)               0         \n",
            "                                                                 \n",
            " dense (Dense)               (None, 1)                 141       \n",
            "                                                                 \n",
            "=================================================================\n",
            "Total params: 1,141\n",
            "Trainable params: 1,141\n",
            "Non-trainable params: 0\n",
            "_________________________________________________________________\n"
          ]
        }
      ]
    },
    {
      "cell_type": "code",
      "source": [
        "model.compile(optimizer='adam', loss='binary_crossentropy', metrics=['acc'])\n",
        "print(model.summary())"
      ],
      "metadata": {
        "colab": {
          "base_uri": "https://localhost:8080/"
        },
        "id": "8LNZig0QNnjJ",
        "outputId": "d455cd11-c391-43db-8dde-5006ec28d2b3"
      },
      "execution_count": 17,
      "outputs": [
        {
          "output_type": "stream",
          "name": "stdout",
          "text": [
            "Model: \"sequential\"\n",
            "_________________________________________________________________\n",
            " Layer (type)                Output Shape              Param #   \n",
            "=================================================================\n",
            " embedding (Embedding)       (None, 7, 20)             1000      \n",
            "                                                                 \n",
            " flatten (Flatten)           (None, 140)               0         \n",
            "                                                                 \n",
            " dense (Dense)               (None, 1)                 141       \n",
            "                                                                 \n",
            "=================================================================\n",
            "Total params: 1,141\n",
            "Trainable params: 1,141\n",
            "Non-trainable params: 0\n",
            "_________________________________________________________________\n",
            "None\n"
          ]
        }
      ]
    },
    {
      "cell_type": "code",
      "source": [
        "model.fit(padded_sentences, sentiments, epochs=100, verbose=1)"
      ],
      "metadata": {
        "colab": {
          "base_uri": "https://localhost:8080/"
        },
        "id": "jxfp11vuN3OH",
        "outputId": "f386a1c1-f655-4b41-83fa-568173f8b1ea"
      },
      "execution_count": 18,
      "outputs": [
        {
          "output_type": "stream",
          "name": "stdout",
          "text": [
            "Epoch 1/100\n",
            "1/1 [==============================] - 6s 6s/step - loss: 0.7019 - acc: 0.4375\n",
            "Epoch 2/100\n",
            "1/1 [==============================] - 0s 14ms/step - loss: 0.6982 - acc: 0.4375\n",
            "Epoch 3/100\n",
            "1/1 [==============================] - 0s 11ms/step - loss: 0.6946 - acc: 0.5000\n",
            "Epoch 4/100\n",
            "1/1 [==============================] - 0s 11ms/step - loss: 0.6909 - acc: 0.5625\n",
            "Epoch 5/100\n",
            "1/1 [==============================] - 0s 10ms/step - loss: 0.6873 - acc: 0.5625\n",
            "Epoch 6/100\n",
            "1/1 [==============================] - 0s 12ms/step - loss: 0.6837 - acc: 0.6875\n",
            "Epoch 7/100\n",
            "1/1 [==============================] - 0s 13ms/step - loss: 0.6801 - acc: 0.6875\n",
            "Epoch 8/100\n",
            "1/1 [==============================] - 0s 10ms/step - loss: 0.6765 - acc: 0.6875\n",
            "Epoch 9/100\n",
            "1/1 [==============================] - 0s 11ms/step - loss: 0.6729 - acc: 0.7500\n",
            "Epoch 10/100\n",
            "1/1 [==============================] - 0s 9ms/step - loss: 0.6693 - acc: 0.8750\n",
            "Epoch 11/100\n",
            "1/1 [==============================] - 0s 10ms/step - loss: 0.6657 - acc: 0.8750\n",
            "Epoch 12/100\n",
            "1/1 [==============================] - 0s 10ms/step - loss: 0.6621 - acc: 0.9375\n",
            "Epoch 13/100\n",
            "1/1 [==============================] - 0s 10ms/step - loss: 0.6584 - acc: 0.9375\n",
            "Epoch 14/100\n",
            "1/1 [==============================] - 0s 9ms/step - loss: 0.6548 - acc: 0.9375\n",
            "Epoch 15/100\n",
            "1/1 [==============================] - 0s 10ms/step - loss: 0.6511 - acc: 0.9375\n",
            "Epoch 16/100\n",
            "1/1 [==============================] - 0s 10ms/step - loss: 0.6475 - acc: 0.9375\n",
            "Epoch 17/100\n",
            "1/1 [==============================] - 0s 12ms/step - loss: 0.6438 - acc: 0.9375\n",
            "Epoch 18/100\n",
            "1/1 [==============================] - 0s 12ms/step - loss: 0.6401 - acc: 0.9375\n",
            "Epoch 19/100\n",
            "1/1 [==============================] - 0s 10ms/step - loss: 0.6364 - acc: 0.9375\n",
            "Epoch 20/100\n",
            "1/1 [==============================] - 0s 11ms/step - loss: 0.6326 - acc: 0.9375\n",
            "Epoch 21/100\n",
            "1/1 [==============================] - 0s 11ms/step - loss: 0.6288 - acc: 0.9375\n",
            "Epoch 22/100\n",
            "1/1 [==============================] - 0s 19ms/step - loss: 0.6250 - acc: 0.9375\n",
            "Epoch 23/100\n",
            "1/1 [==============================] - 0s 11ms/step - loss: 0.6212 - acc: 0.9375\n",
            "Epoch 24/100\n",
            "1/1 [==============================] - 0s 11ms/step - loss: 0.6173 - acc: 0.9375\n",
            "Epoch 25/100\n",
            "1/1 [==============================] - 0s 11ms/step - loss: 0.6134 - acc: 0.9375\n",
            "Epoch 26/100\n",
            "1/1 [==============================] - 0s 11ms/step - loss: 0.6095 - acc: 0.9375\n",
            "Epoch 27/100\n",
            "1/1 [==============================] - 0s 11ms/step - loss: 0.6056 - acc: 0.9375\n",
            "Epoch 28/100\n",
            "1/1 [==============================] - 0s 11ms/step - loss: 0.6016 - acc: 0.9375\n",
            "Epoch 29/100\n",
            "1/1 [==============================] - 0s 11ms/step - loss: 0.5976 - acc: 0.9375\n",
            "Epoch 30/100\n",
            "1/1 [==============================] - 0s 11ms/step - loss: 0.5935 - acc: 0.9375\n",
            "Epoch 31/100\n",
            "1/1 [==============================] - 0s 11ms/step - loss: 0.5894 - acc: 0.9375\n",
            "Epoch 32/100\n",
            "1/1 [==============================] - 0s 11ms/step - loss: 0.5853 - acc: 0.9375\n",
            "Epoch 33/100\n",
            "1/1 [==============================] - 0s 12ms/step - loss: 0.5811 - acc: 0.9375\n",
            "Epoch 34/100\n",
            "1/1 [==============================] - 0s 11ms/step - loss: 0.5769 - acc: 0.9375\n",
            "Epoch 35/100\n",
            "1/1 [==============================] - 0s 12ms/step - loss: 0.5727 - acc: 0.9375\n",
            "Epoch 36/100\n",
            "1/1 [==============================] - 0s 12ms/step - loss: 0.5684 - acc: 0.9375\n",
            "Epoch 37/100\n",
            "1/1 [==============================] - 0s 11ms/step - loss: 0.5641 - acc: 0.9375\n",
            "Epoch 38/100\n",
            "1/1 [==============================] - 0s 11ms/step - loss: 0.5597 - acc: 0.9375\n",
            "Epoch 39/100\n",
            "1/1 [==============================] - 0s 10ms/step - loss: 0.5554 - acc: 0.9375\n",
            "Epoch 40/100\n",
            "1/1 [==============================] - 0s 11ms/step - loss: 0.5510 - acc: 0.9375\n",
            "Epoch 41/100\n",
            "1/1 [==============================] - 0s 13ms/step - loss: 0.5465 - acc: 0.9375\n",
            "Epoch 42/100\n",
            "1/1 [==============================] - 0s 12ms/step - loss: 0.5420 - acc: 0.9375\n",
            "Epoch 43/100\n",
            "1/1 [==============================] - 0s 14ms/step - loss: 0.5375 - acc: 0.9375\n",
            "Epoch 44/100\n",
            "1/1 [==============================] - 0s 11ms/step - loss: 0.5330 - acc: 0.9375\n",
            "Epoch 45/100\n",
            "1/1 [==============================] - 0s 11ms/step - loss: 0.5284 - acc: 0.9375\n",
            "Epoch 46/100\n",
            "1/1 [==============================] - 0s 14ms/step - loss: 0.5238 - acc: 0.9375\n",
            "Epoch 47/100\n",
            "1/1 [==============================] - 0s 12ms/step - loss: 0.5192 - acc: 0.9375\n",
            "Epoch 48/100\n",
            "1/1 [==============================] - 0s 11ms/step - loss: 0.5146 - acc: 0.9375\n",
            "Epoch 49/100\n",
            "1/1 [==============================] - 0s 11ms/step - loss: 0.5099 - acc: 0.9375\n",
            "Epoch 50/100\n",
            "1/1 [==============================] - 0s 11ms/step - loss: 0.5052 - acc: 0.9375\n",
            "Epoch 51/100\n",
            "1/1 [==============================] - 0s 11ms/step - loss: 0.5005 - acc: 0.9375\n",
            "Epoch 52/100\n",
            "1/1 [==============================] - 0s 18ms/step - loss: 0.4958 - acc: 0.9375\n",
            "Epoch 53/100\n",
            "1/1 [==============================] - 0s 11ms/step - loss: 0.4910 - acc: 0.9375\n",
            "Epoch 54/100\n",
            "1/1 [==============================] - 0s 11ms/step - loss: 0.4863 - acc: 0.9375\n",
            "Epoch 55/100\n",
            "1/1 [==============================] - 0s 11ms/step - loss: 0.4815 - acc: 0.9375\n",
            "Epoch 56/100\n",
            "1/1 [==============================] - 0s 10ms/step - loss: 0.4767 - acc: 0.9375\n",
            "Epoch 57/100\n",
            "1/1 [==============================] - 0s 11ms/step - loss: 0.4719 - acc: 0.9375\n",
            "Epoch 58/100\n",
            "1/1 [==============================] - 0s 10ms/step - loss: 0.4672 - acc: 0.9375\n",
            "Epoch 59/100\n",
            "1/1 [==============================] - 0s 12ms/step - loss: 0.4624 - acc: 0.9375\n",
            "Epoch 60/100\n",
            "1/1 [==============================] - 0s 11ms/step - loss: 0.4576 - acc: 0.9375\n",
            "Epoch 61/100\n",
            "1/1 [==============================] - 0s 11ms/step - loss: 0.4528 - acc: 0.9375\n",
            "Epoch 62/100\n",
            "1/1 [==============================] - 0s 16ms/step - loss: 0.4479 - acc: 0.9375\n",
            "Epoch 63/100\n",
            "1/1 [==============================] - 0s 13ms/step - loss: 0.4432 - acc: 0.9375\n",
            "Epoch 64/100\n",
            "1/1 [==============================] - 0s 11ms/step - loss: 0.4384 - acc: 0.9375\n",
            "Epoch 65/100\n",
            "1/1 [==============================] - 0s 11ms/step - loss: 0.4336 - acc: 0.9375\n",
            "Epoch 66/100\n",
            "1/1 [==============================] - 0s 9ms/step - loss: 0.4288 - acc: 0.9375\n",
            "Epoch 67/100\n",
            "1/1 [==============================] - 0s 12ms/step - loss: 0.4240 - acc: 0.9375\n",
            "Epoch 68/100\n",
            "1/1 [==============================] - 0s 10ms/step - loss: 0.4193 - acc: 0.9375\n",
            "Epoch 69/100\n",
            "1/1 [==============================] - 0s 11ms/step - loss: 0.4145 - acc: 0.9375\n",
            "Epoch 70/100\n",
            "1/1 [==============================] - 0s 11ms/step - loss: 0.4098 - acc: 0.9375\n",
            "Epoch 71/100\n",
            "1/1 [==============================] - 0s 11ms/step - loss: 0.4051 - acc: 0.9375\n",
            "Epoch 72/100\n",
            "1/1 [==============================] - 0s 11ms/step - loss: 0.4004 - acc: 0.9375\n",
            "Epoch 73/100\n",
            "1/1 [==============================] - 0s 11ms/step - loss: 0.3957 - acc: 0.9375\n",
            "Epoch 74/100\n",
            "1/1 [==============================] - 0s 9ms/step - loss: 0.3911 - acc: 0.9375\n",
            "Epoch 75/100\n",
            "1/1 [==============================] - 0s 9ms/step - loss: 0.3865 - acc: 0.9375\n",
            "Epoch 76/100\n",
            "1/1 [==============================] - 0s 11ms/step - loss: 0.3819 - acc: 0.9375\n",
            "Epoch 77/100\n",
            "1/1 [==============================] - 0s 10ms/step - loss: 0.3773 - acc: 0.9375\n",
            "Epoch 78/100\n",
            "1/1 [==============================] - 0s 10ms/step - loss: 0.3727 - acc: 0.9375\n",
            "Epoch 79/100\n",
            "1/1 [==============================] - 0s 10ms/step - loss: 0.3682 - acc: 0.9375\n",
            "Epoch 80/100\n",
            "1/1 [==============================] - 0s 11ms/step - loss: 0.3637 - acc: 0.9375\n",
            "Epoch 81/100\n",
            "1/1 [==============================] - 0s 11ms/step - loss: 0.3593 - acc: 0.9375\n",
            "Epoch 82/100\n",
            "1/1 [==============================] - 0s 12ms/step - loss: 0.3549 - acc: 0.9375\n",
            "Epoch 83/100\n",
            "1/1 [==============================] - 0s 11ms/step - loss: 0.3505 - acc: 0.9375\n",
            "Epoch 84/100\n",
            "1/1 [==============================] - 0s 11ms/step - loss: 0.3461 - acc: 0.9375\n",
            "Epoch 85/100\n",
            "1/1 [==============================] - 0s 11ms/step - loss: 0.3418 - acc: 0.9375\n",
            "Epoch 86/100\n",
            "1/1 [==============================] - 0s 9ms/step - loss: 0.3375 - acc: 0.9375\n",
            "Epoch 87/100\n",
            "1/1 [==============================] - 0s 10ms/step - loss: 0.3333 - acc: 0.9375\n",
            "Epoch 88/100\n",
            "1/1 [==============================] - 0s 11ms/step - loss: 0.3291 - acc: 0.9375\n",
            "Epoch 89/100\n",
            "1/1 [==============================] - 0s 16ms/step - loss: 0.3249 - acc: 0.9375\n",
            "Epoch 90/100\n",
            "1/1 [==============================] - 0s 12ms/step - loss: 0.3208 - acc: 0.9375\n",
            "Epoch 91/100\n",
            "1/1 [==============================] - 0s 12ms/step - loss: 0.3167 - acc: 0.9375\n",
            "Epoch 92/100\n",
            "1/1 [==============================] - 0s 12ms/step - loss: 0.3126 - acc: 0.9375\n",
            "Epoch 93/100\n",
            "1/1 [==============================] - 0s 11ms/step - loss: 0.3086 - acc: 0.9375\n",
            "Epoch 94/100\n",
            "1/1 [==============================] - 0s 11ms/step - loss: 0.3047 - acc: 0.9375\n",
            "Epoch 95/100\n",
            "1/1 [==============================] - 0s 11ms/step - loss: 0.3007 - acc: 0.9375\n",
            "Epoch 96/100\n",
            "1/1 [==============================] - 0s 13ms/step - loss: 0.2968 - acc: 0.9375\n",
            "Epoch 97/100\n",
            "1/1 [==============================] - 0s 12ms/step - loss: 0.2930 - acc: 0.9375\n",
            "Epoch 98/100\n",
            "1/1 [==============================] - 0s 11ms/step - loss: 0.2892 - acc: 0.9375\n",
            "Epoch 99/100\n",
            "1/1 [==============================] - 0s 12ms/step - loss: 0.2855 - acc: 0.9375\n",
            "Epoch 100/100\n",
            "1/1 [==============================] - 0s 12ms/step - loss: 0.2817 - acc: 0.9375\n"
          ]
        },
        {
          "output_type": "execute_result",
          "data": {
            "text/plain": [
              "<keras.callbacks.History at 0x7d2310eff0d0>"
            ]
          },
          "metadata": {},
          "execution_count": 18
        }
      ]
    },
    {
      "cell_type": "code",
      "source": [
        "loss, accuracy = model.evaluate(padded_sentences, sentiments, verbose=0)\n",
        "print('Accuracy: %f' , (accuracy*100))"
      ],
      "metadata": {
        "colab": {
          "base_uri": "https://localhost:8080/"
        },
        "id": "yFBV7FyQODUi",
        "outputId": "ea052a9f-443e-4a1d-8069-265ad7dda069"
      },
      "execution_count": 19,
      "outputs": [
        {
          "output_type": "stream",
          "name": "stdout",
          "text": [
            "Accuracy: %f 93.75\n"
          ]
        }
      ]
    },
    {
      "cell_type": "code",
      "source": [],
      "metadata": {
        "id": "wCHghnIwOPD_"
      },
      "execution_count": null,
      "outputs": []
    }
  ]
}
{
  "nbformat": 4,
  "nbformat_minor": 0,
  "metadata": {
    "colab": {
      "provenance": [],
      "gpuType": "T4",
      "authorship_tag": "ABX9TyProkfKJ11RNPg4myGRKKrf",
      "include_colab_link": true
    },
    "kernelspec": {
      "name": "python3",
      "display_name": "Python 3"
    },
    "language_info": {
      "name": "python"
    },
    "accelerator": "GPU"
  },
  "cells": [
    {
      "cell_type": "markdown",
      "metadata": {
        "id": "view-in-github",
        "colab_type": "text"
      },
      "source": [
        "<a href=\"https://colab.research.google.com/github/HebaSedik/deep-learning/blob/master/GRU_using_IMDb_dataset.ipynb\" target=\"_parent\"><img src=\"https://colab.research.google.com/assets/colab-badge.svg\" alt=\"Open In Colab\"/></a>"
      ]
    },
    {
      "cell_type": "markdown",
      "source": [
        "# **dataset**\n",
        " https://drive.google.com/open?id=1WM1Gy0-cKDP_1LMnv-URXDrG7AW3-iIb"
      ],
      "metadata": {
        "id": "9_IEsUWB9fpi"
      }
    },
    {
      "cell_type": "code",
      "execution_count": 2,
      "metadata": {
        "colab": {
          "base_uri": "https://localhost:8080/"
        },
        "id": "u4TCf7rF9dTN",
        "outputId": "7829c47a-4964-4a26-acf9-a8bdcab526cc"
      },
      "outputs": [
        {
          "output_type": "stream",
          "name": "stdout",
          "text": [
            "Accuracy: %.2f% 51.61200165748596\n"
          ]
        }
      ],
      "source": [
        "from keras.datasets import imdb\n",
        "from keras.layers import GRU, LSTM,  Activation\n",
        "from tensorflow.keras.preprocessing.sequence import pad_sequences\n",
        "from keras.models import Sequential\n",
        "num_words = 30000\n",
        "maxlen = 300\n",
        "(X_train, y_train), (X_test, y_test) = imdb.load_data(num_words = num_words)\n",
        "# pad the sequences with zeros\n",
        "# padding parameter is set to 'post' => 0's are appended to end of sequences\n",
        "X_train = pad_sequences(X_train, maxlen = maxlen, padding = 'post')\n",
        "X_test = pad_sequences(X_test, maxlen = maxlen, padding = 'post')\n",
        "X_train = X_train.reshape(X_train.shape + (1,))\n",
        "X_test = X_test.reshape(X_test.shape + (1,))\n",
        "def gru_model():\n",
        "  model = Sequential()\n",
        "  model.add(GRU(50, input_shape = (300,1), return_sequences = True))\n",
        "  model.add(GRU(1, return_sequences = False))\n",
        "  model.add(Activation('sigmoid'))\n",
        "  model.compile(loss = 'binary_crossentropy', optimizer = 'adam', metrics = ['accuracy'])\n",
        "  return model\n",
        "model = gru_model()\n",
        "model.fit(X_train, y_train, batch_size = 100, epochs = 10, verbose = 0)\n",
        "scores = model.evaluate(X_test, y_test, verbose=0)\n",
        "print(\"Accuracy: %.2f%\" , (scores[1]*100))"
      ]
    },
    {
      "cell_type": "code",
      "source": [],
      "metadata": {
        "id": "BKOhsgUR_6Be"
      },
      "execution_count": null,
      "outputs": []
    }
  ]
}
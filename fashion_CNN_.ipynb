{
  "nbformat": 4,
  "nbformat_minor": 0,
  "metadata": {
    "colab": {
      "provenance": [],
      "gpuType": "T4",
      "include_colab_link": true
    },
    "kernelspec": {
      "name": "python3",
      "display_name": "Python 3"
    },
    "language_info": {
      "name": "python"
    },
    "accelerator": "GPU"
  },
  "cells": [
    {
      "cell_type": "markdown",
      "metadata": {
        "id": "view-in-github",
        "colab_type": "text"
      },
      "source": [
        "<a href=\"https://colab.research.google.com/github/HebaSedik/deep-learning/blob/master/fashion_CNN_.ipynb\" target=\"_parent\"><img src=\"https://colab.research.google.com/assets/colab-badge.svg\" alt=\"Open In Colab\"/></a>"
      ]
    },
    {
      "cell_type": "markdown",
      "source": [
        "**Importing required Libraries**"
      ],
      "metadata": {
        "id": "mZgVkHCBe3xM"
      }
    },
    {
      "cell_type": "code",
      "source": [
        "from __future__ import print_function\n",
        "import keras\n",
        "from keras.datasets import mnist\n",
        "from keras.models import Sequential\n",
        "from keras.layers import Dense,Dropout,Flatten\n",
        "from keras.layers import Conv2D,MaxPool2D\n",
        "from keras import backend as k\n",
        "\n"
      ],
      "metadata": {
        "id": "aIw7IV-Me-Sl"
      },
      "execution_count": 1,
      "outputs": []
    },
    {
      "cell_type": "markdown",
      "source": [
        "**Initializing Parameters**"
      ],
      "metadata": {
        "id": "w9Rm45L7fbXD"
      }
    },
    {
      "cell_type": "code",
      "source": [
        "batch_size=128\n",
        "num_classes=10\n",
        "epochs=12"
      ],
      "metadata": {
        "id": "RI_BJFYAszLe"
      },
      "execution_count": 2,
      "outputs": []
    },
    {
      "cell_type": "markdown",
      "source": [
        "**shape & lode dataset**"
      ],
      "metadata": {
        "id": "-0DQtoODfydu"
      }
    },
    {
      "cell_type": "code",
      "source": [
        "img_rows= 28\n",
        "img_cols= 28\n",
        "(x_train,y_train),(x_test,y_test)= mnist.load_data()"
      ],
      "metadata": {
        "id": "_Fhtts-ztF6T",
        "colab": {
          "base_uri": "https://localhost:8080/"
        },
        "outputId": "fe8d77ce-90fb-4c90-f62a-aa0593bb0c9f"
      },
      "execution_count": 3,
      "outputs": [
        {
          "output_type": "stream",
          "name": "stdout",
          "text": [
            "Downloading data from https://storage.googleapis.com/tensorflow/tf-keras-datasets/mnist.npz\n",
            "11490434/11490434 [==============================] - 2s 0us/step\n"
          ]
        }
      ]
    },
    {
      "cell_type": "markdown",
      "source": [
        "**Difine Data formats between different backends**"
      ],
      "metadata": {
        "id": "uf-0ta1BigOk"
      }
    },
    {
      "cell_type": "code",
      "source": [
        "from keras.engine import input_spec\n",
        "if k.image_data_format()=='channels_frist':\n",
        "  x_train=x_train.reshape(x_train.shape[0],1,img_rows,img_cols)\n",
        "  x_test=x_test.reshape(x_test.shape[0],1,img_rows,img_cols)\n",
        "  input_shape=(1,img_rows,img_cols)\n",
        "else:\n",
        "  x_train=x_train.reshape(x_train.shape[0],1,img_rows,img_cols)\n",
        "  x_test=x_test.reshape(x_test.shape[0],1,img_rows,img_cols)\n",
        "  input_shape=(1,img_rows,img_cols)"
      ],
      "metadata": {
        "id": "RYUtt28zvAiY"
      },
      "execution_count": 4,
      "outputs": []
    },
    {
      "cell_type": "markdown",
      "source": [
        "**Normlization data dimensions**"
      ],
      "metadata": {
        "id": "OUFPavDgjAnJ"
      }
    },
    {
      "cell_type": "code",
      "source": [
        "x_train=x_train/255.0\n",
        "x_test=x_test/255.0\n",
        "print('x_train shape :', x_train.shape)\n",
        "print('x_test shape :', x_test.shape)"
      ],
      "metadata": {
        "colab": {
          "base_uri": "https://localhost:8080/"
        },
        "id": "2Cyme7RWjBA5",
        "outputId": "b38c1b5e-86a6-4519-f39c-c7279cd17ed4"
      },
      "execution_count": 5,
      "outputs": [
        {
          "output_type": "stream",
          "name": "stdout",
          "text": [
            "x_train shape : (60000, 1, 28, 28)\n",
            "x_test shape : (10000, 1, 28, 28)\n"
          ]
        }
      ]
    },
    {
      "cell_type": "markdown",
      "source": [
        "**Convert vector to binary matrices**"
      ],
      "metadata": {
        "id": "lh5cVr6YjR_p"
      }
    },
    {
      "cell_type": "code",
      "source": [
        "from keras.backend_config import keras_export\n",
        "y_train=keras.utils.to_categorical(y_train)\n",
        "y_test=keras.utils.to_categorical(y_test)"
      ],
      "metadata": {
        "id": "tu6og8uqyoQK"
      },
      "execution_count": 6,
      "outputs": []
    },
    {
      "cell_type": "markdown",
      "source": [
        "**Creat Model**"
      ],
      "metadata": {
        "id": "wxM8TTAz6yVv"
      }
    },
    {
      "cell_type": "code",
      "source": [
        "model=Sequential()\n",
        "\n",
        "model.add(Conv2D(32,kernel_size=(3,3),activation='relu',input_shape=(28,28,1)))\n",
        "model.add(Conv2D(64,(3,3),activation='relu'))\n",
        "model.add(MaxPool2D((2,2)))\n",
        "model.add(Flatten())\n",
        "model.add(Dense(128,activation='relu'))\n",
        "model.add(Dense(num_classes,activation='softmax'))\n",
        "model.summary()"
      ],
      "metadata": {
        "id": "ph-dM4JA6xFK",
        "colab": {
          "base_uri": "https://localhost:8080/"
        },
        "outputId": "590d9869-d47d-435b-de5d-c5bc38a9db7f"
      },
      "execution_count": 7,
      "outputs": [
        {
          "output_type": "stream",
          "name": "stdout",
          "text": [
            "Model: \"sequential\"\n",
            "_________________________________________________________________\n",
            " Layer (type)                Output Shape              Param #   \n",
            "=================================================================\n",
            " conv2d (Conv2D)             (None, 26, 26, 32)        320       \n",
            "                                                                 \n",
            " conv2d_1 (Conv2D)           (None, 24, 24, 64)        18496     \n",
            "                                                                 \n",
            " max_pooling2d (MaxPooling2D  (None, 12, 12, 64)       0         \n",
            " )                                                               \n",
            "                                                                 \n",
            " flatten (Flatten)           (None, 9216)              0         \n",
            "                                                                 \n",
            " dense (Dense)               (None, 128)               1179776   \n",
            "                                                                 \n",
            " dense_1 (Dense)             (None, 10)                1290      \n",
            "                                                                 \n",
            "=================================================================\n",
            "Total params: 1,199,882\n",
            "Trainable params: 1,199,882\n",
            "Non-trainable params: 0\n",
            "_________________________________________________________________\n"
          ]
        }
      ]
    },
    {
      "cell_type": "markdown",
      "source": [
        "**Compile model**"
      ],
      "metadata": {
        "id": "genpLvUaRD5o"
      }
    },
    {
      "cell_type": "code",
      "source": [
        "model.compile(loss= keras.losses.categorical_crossentropy,optimizer=keras.optimizers.Adadelta(),metrics=['accuracy'])"
      ],
      "metadata": {
        "id": "tVEmD627RRWs"
      },
      "execution_count": 8,
      "outputs": []
    },
    {
      "cell_type": "code",
      "source": [
        "import numpy"
      ],
      "metadata": {
        "id": "ua0DtRPtn7h1"
      },
      "execution_count": 11,
      "outputs": []
    },
    {
      "cell_type": "code",
      "source": [
        "x_train = x_train.reshape((-1, 28, 28, 1))\n",
        "x_test = x_test.reshape((-1, 28, 28, 1))"
      ],
      "metadata": {
        "id": "12qtHGlenYag"
      },
      "execution_count": 13,
      "outputs": []
    },
    {
      "cell_type": "markdown",
      "source": [
        "**Train Model**"
      ],
      "metadata": {
        "id": "v7ysGVv-RZF3"
      }
    },
    {
      "cell_type": "code",
      "source": [
        "model.fit(x_train,\n",
        "    y_train,\n",
        "    batch_size=batch_size ,\n",
        "    epochs=epochs ,\n",
        "    verbose=1,\n",
        "    validation_data=(x_test,y_test))"
      ],
      "metadata": {
        "id": "lb6f8_C6Rd-N",
        "colab": {
          "base_uri": "https://localhost:8080/"
        },
        "outputId": "6a5fc4e2-0c1f-4467-fc1c-84ebb25a32ef"
      },
      "execution_count": 14,
      "outputs": [
        {
          "output_type": "stream",
          "name": "stdout",
          "text": [
            "Epoch 1/12\n",
            "469/469 [==============================] - 13s 8ms/step - loss: 2.2670 - accuracy: 0.1951 - val_loss: 2.2285 - val_accuracy: 0.2911\n",
            "Epoch 2/12\n",
            "469/469 [==============================] - 3s 7ms/step - loss: 2.1811 - accuracy: 0.3959 - val_loss: 2.1200 - val_accuracy: 0.5183\n",
            "Epoch 3/12\n",
            "469/469 [==============================] - 4s 8ms/step - loss: 2.0395 - accuracy: 0.5816 - val_loss: 1.9316 - val_accuracy: 0.6517\n",
            "Epoch 4/12\n",
            "469/469 [==============================] - 3s 7ms/step - loss: 1.7953 - accuracy: 0.6855 - val_loss: 1.6163 - val_accuracy: 0.7380\n",
            "Epoch 5/12\n",
            "469/469 [==============================] - 4s 8ms/step - loss: 1.4324 - accuracy: 0.7521 - val_loss: 1.2125 - val_accuracy: 0.7921\n",
            "Epoch 6/12\n",
            "469/469 [==============================] - 4s 8ms/step - loss: 1.0605 - accuracy: 0.7947 - val_loss: 0.8867 - val_accuracy: 0.8237\n",
            "Epoch 7/12\n",
            "469/469 [==============================] - 4s 8ms/step - loss: 0.8075 - accuracy: 0.8198 - val_loss: 0.6958 - val_accuracy: 0.8434\n",
            "Epoch 8/12\n",
            "469/469 [==============================] - 3s 7ms/step - loss: 0.6622 - accuracy: 0.8382 - val_loss: 0.5880 - val_accuracy: 0.8578\n",
            "Epoch 9/12\n",
            "469/469 [==============================] - 4s 7ms/step - loss: 0.5765 - accuracy: 0.8519 - val_loss: 0.5217 - val_accuracy: 0.8692\n",
            "Epoch 10/12\n",
            "469/469 [==============================] - 4s 8ms/step - loss: 0.5213 - accuracy: 0.8620 - val_loss: 0.4779 - val_accuracy: 0.8754\n",
            "Epoch 11/12\n",
            "469/469 [==============================] - 4s 8ms/step - loss: 0.4831 - accuracy: 0.8696 - val_loss: 0.4460 - val_accuracy: 0.8805\n",
            "Epoch 12/12\n",
            "469/469 [==============================] - 4s 8ms/step - loss: 0.4547 - accuracy: 0.8749 - val_loss: 0.4221 - val_accuracy: 0.8848\n"
          ]
        },
        {
          "output_type": "execute_result",
          "data": {
            "text/plain": [
              "<keras.callbacks.History at 0x792290d156c0>"
            ]
          },
          "metadata": {},
          "execution_count": 14
        }
      ]
    },
    {
      "cell_type": "markdown",
      "source": [
        "**Evaluate model**"
      ],
      "metadata": {
        "id": "cPAieeK20Ued"
      }
    },
    {
      "cell_type": "code",
      "source": [
        "score=model.evaluate(x_test ,y_test ,verbose=0)\n",
        "print('test loss=' ,score[0])\n",
        "print('Test accuarcy =',score[1])"
      ],
      "metadata": {
        "id": "1fnaB5zI0aGA",
        "colab": {
          "base_uri": "https://localhost:8080/"
        },
        "outputId": "387dcefa-2fa8-48a0-9acc-10e832745165"
      },
      "execution_count": 16,
      "outputs": [
        {
          "output_type": "stream",
          "name": "stdout",
          "text": [
            "test loss= 0.4220937490463257\n",
            "Test accuarcy = 0.8848000168800354\n"
          ]
        }
      ]
    },
    {
      "cell_type": "code",
      "source": [],
      "metadata": {
        "id": "qf7J52DtoS6L"
      },
      "execution_count": null,
      "outputs": []
    }
  ]
}